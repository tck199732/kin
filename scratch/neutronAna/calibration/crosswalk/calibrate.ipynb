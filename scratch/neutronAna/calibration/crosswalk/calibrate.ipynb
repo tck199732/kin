{
 "cells": [
  {
   "cell_type": "code",
   "execution_count": null,
   "metadata": {},
   "outputs": [],
   "source": [
    "%load_ext autoreload\n",
    "%autoreload 2\n",
    "import os\n",
    "import re\n",
    "import json\n",
    "import numpy as np\n",
    "import pandas as pd\n",
    "import matplotlib.pyplot as plt\n",
    "import matplotlib as mpl\n",
    "from pathlib import Path\n",
    "from scipy.optimize import curve_fit\n",
    "\n",
    "MPL_CUSTOM = {\n",
    "    'font.family': 'serif',\n",
    "    'mathtext.fontset': 'cm',\n",
    "    'figure.dpi': 120,\n",
    "    'figure.figsize': (4, 3.5),\n",
    "    'figure.facecolor': 'white',\n",
    "    'xtick.top': True,\n",
    "    'xtick.direction': 'in',\n",
    "    'xtick.minor.visible': True,\n",
    "    'ytick.right': True,\n",
    "    'ytick.direction': 'in',\n",
    "    'ytick.minor.visible': True,\n",
    "}\n",
    "\n",
    "for k, v in MPL_CUSTOM.items():\n",
    "    mpl.rcParams[k] = v"
   ]
  },
  {
   "cell_type": "code",
   "execution_count": null,
   "metadata": {},
   "outputs": [],
   "source": [
    "data_dir = Path('./tof_data')\n",
    "files = sorted([f for f in data_dir.glob('*.dat')])\n",
    "fbin = [int(re.findall(r'(\\d+)', str(f))[0]) for f in files]\n",
    "dfs = [pd.read_csv(str(f), sep=r'\\s+', names=['x', 'y', 'yerr'], header=None) for i, f in enumerate(files) if fbin[i] <= 29]"
   ]
  },
  {
   "cell_type": "code",
   "execution_count": null,
   "metadata": {},
   "outputs": [],
   "source": [
    "def gaussian(x, a, x0, sigma):\n",
    "    return a * np.exp(-(x - x0)**2 / (2 * sigma**2))\n",
    "\n",
    "def fit(data, xrange):\n",
    "    df = data.query(f'{xrange[0]} <= x <= {xrange[1]}')\n",
    "    popt, pcov = curve_fit(\n",
    "        gaussian,\n",
    "        df.x.values,\n",
    "        df.y.values,\n",
    "        # p0=[200, -8, 1],\n",
    "        # sigma=df.yerr.values,\n",
    "        # absolute_sigma=True,\n",
    "    )\n",
    "    return popt"
   ]
  },
  {
   "cell_type": "code",
   "execution_count": 59,
   "metadata": {},
   "outputs": [],
   "source": [
    "x_range = [-9, -8]"
   ]
  },
  {
   "cell_type": "code",
   "execution_count": 60,
   "metadata": {},
   "outputs": [
    {
     "name": "stderr",
     "output_type": "stream",
     "text": [
      "/tmp/ipykernel_1845438/3242066143.py:6: OptimizeWarning: Covariance of the parameters could not be estimated\n",
      "  popt, pcov = curve_fit(\n"
     ]
    },
    {
     "data": {
      "text/plain": [
       "array([1., 1., 1.])"
      ]
     },
     "execution_count": 60,
     "metadata": {},
     "output_type": "execute_result"
    }
   ],
   "source": [
    "fit(\n",
    "    dfs[10], x_range\n",
    ")"
   ]
  },
  {
   "cell_type": "code",
   "execution_count": 61,
   "metadata": {},
   "outputs": [
    {
     "data": {
      "text/plain": [
       "<ErrorbarContainer object of 3 artists>"
      ]
     },
     "execution_count": 61,
     "metadata": {},
     "output_type": "execute_result"
    },
    {
     "data": {
      "image/png": "[encoded data removed]",
      "text/plain": [
       "<Figure size 480x420 with 1 Axes>"
      ]
     },
     "metadata": {},
     "output_type": "display_data"
    }
   ],
   "source": [
    "fig, ax = plt.subplots()\n",
    "df_ = dfs[10].query(f'{x_range[0]} <= x <= {x_range[1]}')\n",
    "ax.errorbar(df_.x, df_.y, yerr=df_.yerr)"
   ]
  },
  {
   "cell_type": "code",
   "execution_count": null,
   "metadata": {},
   "outputs": [],
   "source": [
    "for i, df in enumerate(dfs):\n",
    "    fig, ax = plt.subplots()\n",
    "    df_ = df.query(f'{x_range[0]} <= x <= {x_range[1]}')\n",
    "    ax.errorbar(df_.x, df_.y, yerr=df_.yerr)"
   ]
  },
  {
   "cell_type": "code",
   "execution_count": null,
   "metadata": {},
   "outputs": [],
   "source": []
  }
 ],
 "metadata": {
  "kernelspec": {
   "display_name": "Python 3",
   "language": "python",
   "name": "python3"
  },
  "language_info": {
   "codemirror_mode": {
    "name": "ipython",
    "version": 3
   },
   "file_extension": ".py",
   "mimetype": "text/x-python",
   "name": "python",
   "nbconvert_exporter": "python",
   "pygments_lexer": "ipython3",
   "version": "3.12.4"
  }
 },
 "nbformat": 4,
 "nbformat_minor": 2
}
